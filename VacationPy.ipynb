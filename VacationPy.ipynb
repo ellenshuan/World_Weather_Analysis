{
 "cells": [
  {
   "cell_type": "code",
   "execution_count": 1,
   "metadata": {},
   "outputs": [],
   "source": [
    "# Import the dependencies.\n",
    "import pandas as pd\n",
    "import gmaps\n",
    "import requests\n",
    "# Import the API key.\n",
    "from config import g_key"
   ]
  },
  {
   "cell_type": "code",
   "execution_count": 2,
   "metadata": {},
   "outputs": [
    {
     "data": {
      "text/html": [
       "<div>\n",
       "<style scoped>\n",
       "    .dataframe tbody tr th:only-of-type {\n",
       "        vertical-align: middle;\n",
       "    }\n",
       "\n",
       "    .dataframe tbody tr th {\n",
       "        vertical-align: top;\n",
       "    }\n",
       "\n",
       "    .dataframe thead th {\n",
       "        text-align: right;\n",
       "    }\n",
       "</style>\n",
       "<table border=\"1\" class=\"dataframe\">\n",
       "  <thead>\n",
       "    <tr style=\"text-align: right;\">\n",
       "      <th></th>\n",
       "      <th>City_ID</th>\n",
       "      <th>City</th>\n",
       "      <th>Lat</th>\n",
       "      <th>Lng</th>\n",
       "      <th>Max Temp</th>\n",
       "      <th>Humidity</th>\n",
       "      <th>Cloudiness</th>\n",
       "      <th>Wind Speed</th>\n",
       "      <th>Country</th>\n",
       "      <th>Date</th>\n",
       "    </tr>\n",
       "  </thead>\n",
       "  <tbody>\n",
       "    <tr>\n",
       "      <th>0</th>\n",
       "      <td>0</td>\n",
       "      <td>Xichang</td>\n",
       "      <td>27.90</td>\n",
       "      <td>102.26</td>\n",
       "      <td>50.81</td>\n",
       "      <td>68</td>\n",
       "      <td>99</td>\n",
       "      <td>4.52</td>\n",
       "      <td>CN</td>\n",
       "      <td>2020-11-01 23:28:27</td>\n",
       "    </tr>\n",
       "    <tr>\n",
       "      <th>1</th>\n",
       "      <td>1</td>\n",
       "      <td>Guider</td>\n",
       "      <td>9.93</td>\n",
       "      <td>13.95</td>\n",
       "      <td>79.61</td>\n",
       "      <td>28</td>\n",
       "      <td>11</td>\n",
       "      <td>6.29</td>\n",
       "      <td>CM</td>\n",
       "      <td>2020-11-01 23:28:28</td>\n",
       "    </tr>\n",
       "    <tr>\n",
       "      <th>2</th>\n",
       "      <td>2</td>\n",
       "      <td>Khatanga</td>\n",
       "      <td>71.97</td>\n",
       "      <td>102.50</td>\n",
       "      <td>5.32</td>\n",
       "      <td>95</td>\n",
       "      <td>99</td>\n",
       "      <td>6.17</td>\n",
       "      <td>RU</td>\n",
       "      <td>2020-11-01 23:28:28</td>\n",
       "    </tr>\n",
       "    <tr>\n",
       "      <th>3</th>\n",
       "      <td>3</td>\n",
       "      <td>Manoel Urbano</td>\n",
       "      <td>-8.84</td>\n",
       "      <td>-69.26</td>\n",
       "      <td>79.30</td>\n",
       "      <td>63</td>\n",
       "      <td>71</td>\n",
       "      <td>0.85</td>\n",
       "      <td>BR</td>\n",
       "      <td>2020-11-01 23:28:28</td>\n",
       "    </tr>\n",
       "    <tr>\n",
       "      <th>4</th>\n",
       "      <td>4</td>\n",
       "      <td>Atuona</td>\n",
       "      <td>-9.80</td>\n",
       "      <td>-139.03</td>\n",
       "      <td>77.47</td>\n",
       "      <td>79</td>\n",
       "      <td>68</td>\n",
       "      <td>15.12</td>\n",
       "      <td>PF</td>\n",
       "      <td>2020-11-01 23:28:28</td>\n",
       "    </tr>\n",
       "  </tbody>\n",
       "</table>\n",
       "</div>"
      ],
      "text/plain": [
       "   City_ID           City    Lat     Lng  Max Temp  Humidity  Cloudiness  \\\n",
       "0        0        Xichang  27.90  102.26     50.81        68          99   \n",
       "1        1         Guider   9.93   13.95     79.61        28          11   \n",
       "2        2       Khatanga  71.97  102.50      5.32        95          99   \n",
       "3        3  Manoel Urbano  -8.84  -69.26     79.30        63          71   \n",
       "4        4         Atuona  -9.80 -139.03     77.47        79          68   \n",
       "\n",
       "   Wind Speed Country                 Date  \n",
       "0        4.52      CN  2020-11-01 23:28:27  \n",
       "1        6.29      CM  2020-11-01 23:28:28  \n",
       "2        6.17      RU  2020-11-01 23:28:28  \n",
       "3        0.85      BR  2020-11-01 23:28:28  \n",
       "4       15.12      PF  2020-11-01 23:28:28  "
      ]
     },
     "execution_count": 2,
     "metadata": {},
     "output_type": "execute_result"
    }
   ],
   "source": [
    "# Store the CSV you saved created in part one into a DataFrame.\n",
    "city_data_df = pd.read_csv(\"weather_data/cities.csv\")\n",
    "city_data_df.head()"
   ]
  },
  {
   "cell_type": "code",
   "execution_count": 3,
   "metadata": {},
   "outputs": [
    {
     "data": {
      "text/plain": [
       "City_ID         int64\n",
       "City           object\n",
       "Lat           float64\n",
       "Lng           float64\n",
       "Max Temp      float64\n",
       "Humidity        int64\n",
       "Cloudiness      int64\n",
       "Wind Speed    float64\n",
       "Country        object\n",
       "Date           object\n",
       "dtype: object"
      ]
     },
     "execution_count": 3,
     "metadata": {},
     "output_type": "execute_result"
    }
   ],
   "source": [
    "city_data_df.dtypes"
   ]
  },
  {
   "cell_type": "code",
   "execution_count": 4,
   "metadata": {},
   "outputs": [],
   "source": [
    "# Configure gmaps to use your Google API key.\n",
    "gmaps.configure(api_key=g_key)"
   ]
  },
  {
   "cell_type": "code",
   "execution_count": 5,
   "metadata": {
    "scrolled": false
   },
   "outputs": [
    {
     "data": {
      "application/vnd.jupyter.widget-view+json": {
       "model_id": "9fa0c5619fa84ccaaf0f6b7b546b2ef9",
       "version_major": 2,
       "version_minor": 0
      },
      "text/plain": [
       "Figure(layout=FigureLayout(height='420px'))"
      ]
     },
     "metadata": {},
     "output_type": "display_data"
    }
   ],
   "source": [
    "# Heatmap of temperature\n",
    "# Get the latitude and longitude.\n",
    "locations = city_data_df[[\"Lat\", \"Lng\"]]\n",
    "# Get the maximum temperature.\n",
    "max_temp = city_data_df[\"Max Temp\"]\n",
    "# Assign the figure variable.\n",
    "fig = gmaps.figure(center=(30.0, 31.0), zoom_level=1.5)\n",
    "# Assign the heatmap variable.\n",
    "heat_layer = gmaps.heatmap_layer(locations, weights=[max(temp, 0) for temp in max_temp])\n",
    "fig.add_layer(heat_layer)\n",
    "# Call the figure to plot the data.\n",
    "fig"
   ]
  },
  {
   "cell_type": "code",
   "execution_count": 6,
   "metadata": {},
   "outputs": [
    {
     "data": {
      "application/vnd.jupyter.widget-view+json": {
       "model_id": "931b180150b741419026d1d305b2ea90",
       "version_major": 2,
       "version_minor": 0
      },
      "text/plain": [
       "Figure(layout=FigureLayout(height='420px'))"
      ]
     },
     "metadata": {},
     "output_type": "display_data"
    }
   ],
   "source": [
    "# Heatmap of percent humidity\n",
    "locations = city_data_df[[\"Lat\", \"Lng\"]]\n",
    "humidity = city_data_df[\"Humidity\"]\n",
    "fig = gmaps.figure(center=(30.0, 31.0), zoom_level=1.5)\n",
    "heat_layer = gmaps.heatmap_layer(locations, weights=humidity, dissipating=False, max_intensity=300, point_radius=4)\n",
    "\n",
    "fig.add_layer(heat_layer)\n",
    "# Call the figure to plot the data.\n",
    "fig"
   ]
  },
  {
   "cell_type": "code",
   "execution_count": 7,
   "metadata": {},
   "outputs": [
    {
     "data": {
      "application/vnd.jupyter.widget-view+json": {
       "model_id": "f5432e654e704a32b38692978a01562e",
       "version_major": 2,
       "version_minor": 0
      },
      "text/plain": [
       "Figure(layout=FigureLayout(height='420px'))"
      ]
     },
     "metadata": {},
     "output_type": "display_data"
    }
   ],
   "source": [
    "# Heatmap of percent cloudiness\n",
    "locations = city_data_df[[\"Lat\", \"Lng\"]]\n",
    "clouds = city_data_df[\"Cloudiness\"]\n",
    "fig = gmaps.figure(center=(30.0, 31.0), zoom_level=1.5)\n",
    "heat_layer = gmaps.heatmap_layer(locations, weights=clouds, dissipating=False, max_intensity=300, point_radius=4)\n",
    "\n",
    "fig.add_layer(heat_layer)\n",
    "# Call the figure to plot the data.\n",
    "fig"
   ]
  },
  {
   "cell_type": "code",
   "execution_count": 8,
   "metadata": {},
   "outputs": [
    {
     "data": {
      "application/vnd.jupyter.widget-view+json": {
       "model_id": "28a5be9babe24af7b2e692b5f1073942",
       "version_major": 2,
       "version_minor": 0
      },
      "text/plain": [
       "Figure(layout=FigureLayout(height='420px'))"
      ]
     },
     "metadata": {},
     "output_type": "display_data"
    }
   ],
   "source": [
    "# Heatmap of percent wind speed\n",
    "locations = city_data_df[[\"Lat\", \"Lng\"]]\n",
    "wind = city_data_df[\"Wind Speed\"]\n",
    "fig = gmaps.figure(center=(30.0, 31.0), zoom_level=1.5)\n",
    "heat_layer = gmaps.heatmap_layer(locations, weights=wind, dissipating=False, max_intensity=300, point_radius=4)\n",
    "\n",
    "fig.add_layer(heat_layer)\n",
    "# Call the figure to plot the data.\n",
    "fig"
   ]
  },
  {
   "cell_type": "code",
   "execution_count": 9,
   "metadata": {},
   "outputs": [
    {
     "name": "stdout",
     "output_type": "stream",
     "text": [
      "What is the minimum temperature you would like for your trip? 75\n",
      "What is the maximum temperature you would like for your trip? 90\n"
     ]
    }
   ],
   "source": [
    "# Ask the customer to add a minimum and maximum temperature value.\n",
    "min_temp = float(input(\"What is the minimum temperature you would like for your trip? \"))\n",
    "max_temp = float(input(\"What is the maximum temperature you would like for your trip? \"))"
   ]
  },
  {
   "cell_type": "code",
   "execution_count": 10,
   "metadata": {},
   "outputs": [
    {
     "data": {
      "text/html": [
       "<div>\n",
       "<style scoped>\n",
       "    .dataframe tbody tr th:only-of-type {\n",
       "        vertical-align: middle;\n",
       "    }\n",
       "\n",
       "    .dataframe tbody tr th {\n",
       "        vertical-align: top;\n",
       "    }\n",
       "\n",
       "    .dataframe thead th {\n",
       "        text-align: right;\n",
       "    }\n",
       "</style>\n",
       "<table border=\"1\" class=\"dataframe\">\n",
       "  <thead>\n",
       "    <tr style=\"text-align: right;\">\n",
       "      <th></th>\n",
       "      <th>City_ID</th>\n",
       "      <th>City</th>\n",
       "      <th>Lat</th>\n",
       "      <th>Lng</th>\n",
       "      <th>Max Temp</th>\n",
       "      <th>Humidity</th>\n",
       "      <th>Cloudiness</th>\n",
       "      <th>Wind Speed</th>\n",
       "      <th>Country</th>\n",
       "      <th>Date</th>\n",
       "    </tr>\n",
       "  </thead>\n",
       "  <tbody>\n",
       "    <tr>\n",
       "      <th>1</th>\n",
       "      <td>1</td>\n",
       "      <td>Guider</td>\n",
       "      <td>9.93</td>\n",
       "      <td>13.95</td>\n",
       "      <td>79.61</td>\n",
       "      <td>28</td>\n",
       "      <td>11</td>\n",
       "      <td>6.29</td>\n",
       "      <td>CM</td>\n",
       "      <td>2020-11-01 23:28:28</td>\n",
       "    </tr>\n",
       "    <tr>\n",
       "      <th>3</th>\n",
       "      <td>3</td>\n",
       "      <td>Manoel Urbano</td>\n",
       "      <td>-8.84</td>\n",
       "      <td>-69.26</td>\n",
       "      <td>79.30</td>\n",
       "      <td>63</td>\n",
       "      <td>71</td>\n",
       "      <td>0.85</td>\n",
       "      <td>BR</td>\n",
       "      <td>2020-11-01 23:28:28</td>\n",
       "    </tr>\n",
       "    <tr>\n",
       "      <th>4</th>\n",
       "      <td>4</td>\n",
       "      <td>Atuona</td>\n",
       "      <td>-9.80</td>\n",
       "      <td>-139.03</td>\n",
       "      <td>77.47</td>\n",
       "      <td>79</td>\n",
       "      <td>68</td>\n",
       "      <td>15.12</td>\n",
       "      <td>PF</td>\n",
       "      <td>2020-11-01 23:28:28</td>\n",
       "    </tr>\n",
       "    <tr>\n",
       "      <th>6</th>\n",
       "      <td>6</td>\n",
       "      <td>Vila Do Maio</td>\n",
       "      <td>15.13</td>\n",
       "      <td>-23.22</td>\n",
       "      <td>77.00</td>\n",
       "      <td>69</td>\n",
       "      <td>20</td>\n",
       "      <td>6.93</td>\n",
       "      <td>CV</td>\n",
       "      <td>2020-11-01 23:28:29</td>\n",
       "    </tr>\n",
       "    <tr>\n",
       "      <th>7</th>\n",
       "      <td>7</td>\n",
       "      <td>Muisne</td>\n",
       "      <td>0.60</td>\n",
       "      <td>-80.03</td>\n",
       "      <td>75.52</td>\n",
       "      <td>86</td>\n",
       "      <td>58</td>\n",
       "      <td>10.09</td>\n",
       "      <td>EC</td>\n",
       "      <td>2020-11-01 23:23:32</td>\n",
       "    </tr>\n",
       "    <tr>\n",
       "      <th>13</th>\n",
       "      <td>13</td>\n",
       "      <td>Gorontalo</td>\n",
       "      <td>0.54</td>\n",
       "      <td>123.06</td>\n",
       "      <td>79.39</td>\n",
       "      <td>72</td>\n",
       "      <td>100</td>\n",
       "      <td>4.79</td>\n",
       "      <td>ID</td>\n",
       "      <td>2020-11-01 23:28:30</td>\n",
       "    </tr>\n",
       "    <tr>\n",
       "      <th>17</th>\n",
       "      <td>17</td>\n",
       "      <td>Butaritari</td>\n",
       "      <td>3.07</td>\n",
       "      <td>172.79</td>\n",
       "      <td>81.97</td>\n",
       "      <td>76</td>\n",
       "      <td>23</td>\n",
       "      <td>10.76</td>\n",
       "      <td>KI</td>\n",
       "      <td>2020-11-01 23:28:31</td>\n",
       "    </tr>\n",
       "    <tr>\n",
       "      <th>19</th>\n",
       "      <td>19</td>\n",
       "      <td>Touros</td>\n",
       "      <td>-5.20</td>\n",
       "      <td>-35.46</td>\n",
       "      <td>78.80</td>\n",
       "      <td>83</td>\n",
       "      <td>40</td>\n",
       "      <td>10.29</td>\n",
       "      <td>BR</td>\n",
       "      <td>2020-11-01 23:28:32</td>\n",
       "    </tr>\n",
       "    <tr>\n",
       "      <th>23</th>\n",
       "      <td>23</td>\n",
       "      <td>Bathsheba</td>\n",
       "      <td>13.22</td>\n",
       "      <td>-59.52</td>\n",
       "      <td>82.40</td>\n",
       "      <td>78</td>\n",
       "      <td>75</td>\n",
       "      <td>23.04</td>\n",
       "      <td>BB</td>\n",
       "      <td>2020-11-01 23:28:33</td>\n",
       "    </tr>\n",
       "    <tr>\n",
       "      <th>24</th>\n",
       "      <td>24</td>\n",
       "      <td>Diffa</td>\n",
       "      <td>13.32</td>\n",
       "      <td>12.61</td>\n",
       "      <td>77.88</td>\n",
       "      <td>28</td>\n",
       "      <td>88</td>\n",
       "      <td>9.73</td>\n",
       "      <td>NE</td>\n",
       "      <td>2020-11-01 23:28:34</td>\n",
       "    </tr>\n",
       "  </tbody>\n",
       "</table>\n",
       "</div>"
      ],
      "text/plain": [
       "    City_ID           City    Lat     Lng  Max Temp  Humidity  Cloudiness  \\\n",
       "1         1         Guider   9.93   13.95     79.61        28          11   \n",
       "3         3  Manoel Urbano  -8.84  -69.26     79.30        63          71   \n",
       "4         4         Atuona  -9.80 -139.03     77.47        79          68   \n",
       "6         6   Vila Do Maio  15.13  -23.22     77.00        69          20   \n",
       "7         7         Muisne   0.60  -80.03     75.52        86          58   \n",
       "13       13      Gorontalo   0.54  123.06     79.39        72         100   \n",
       "17       17     Butaritari   3.07  172.79     81.97        76          23   \n",
       "19       19         Touros  -5.20  -35.46     78.80        83          40   \n",
       "23       23      Bathsheba  13.22  -59.52     82.40        78          75   \n",
       "24       24          Diffa  13.32   12.61     77.88        28          88   \n",
       "\n",
       "    Wind Speed Country                 Date  \n",
       "1         6.29      CM  2020-11-01 23:28:28  \n",
       "3         0.85      BR  2020-11-01 23:28:28  \n",
       "4        15.12      PF  2020-11-01 23:28:28  \n",
       "6         6.93      CV  2020-11-01 23:28:29  \n",
       "7        10.09      EC  2020-11-01 23:23:32  \n",
       "13        4.79      ID  2020-11-01 23:28:30  \n",
       "17       10.76      KI  2020-11-01 23:28:31  \n",
       "19       10.29      BR  2020-11-01 23:28:32  \n",
       "23       23.04      BB  2020-11-01 23:28:33  \n",
       "24        9.73      NE  2020-11-01 23:28:34  "
      ]
     },
     "execution_count": 10,
     "metadata": {},
     "output_type": "execute_result"
    }
   ],
   "source": [
    "# Filter the dataset to find the cities that fit the criteria.\n",
    "preferred_cities_df = city_data_df.loc[(city_data_df[\"Max Temp\"] <= max_temp) & \\\n",
    "                                       (city_data_df[\"Max Temp\"] >= min_temp)]\n",
    "preferred_cities_df.head(10)"
   ]
  },
  {
   "cell_type": "code",
   "execution_count": 11,
   "metadata": {},
   "outputs": [
    {
     "data": {
      "text/plain": [
       "City_ID       175\n",
       "City          175\n",
       "Lat           175\n",
       "Lng           175\n",
       "Max Temp      175\n",
       "Humidity      175\n",
       "Cloudiness    175\n",
       "Wind Speed    175\n",
       "Country       174\n",
       "Date          175\n",
       "dtype: int64"
      ]
     },
     "execution_count": 11,
     "metadata": {},
     "output_type": "execute_result"
    }
   ],
   "source": [
    "preferred_cities_df.count()"
   ]
  },
  {
   "cell_type": "code",
   "execution_count": 12,
   "metadata": {},
   "outputs": [
    {
     "data": {
      "text/html": [
       "<div>\n",
       "<style scoped>\n",
       "    .dataframe tbody tr th:only-of-type {\n",
       "        vertical-align: middle;\n",
       "    }\n",
       "\n",
       "    .dataframe tbody tr th {\n",
       "        vertical-align: top;\n",
       "    }\n",
       "\n",
       "    .dataframe thead th {\n",
       "        text-align: right;\n",
       "    }\n",
       "</style>\n",
       "<table border=\"1\" class=\"dataframe\">\n",
       "  <thead>\n",
       "    <tr style=\"text-align: right;\">\n",
       "      <th></th>\n",
       "      <th>City</th>\n",
       "      <th>Country</th>\n",
       "      <th>Max Temp</th>\n",
       "      <th>Lat</th>\n",
       "      <th>Lng</th>\n",
       "      <th>Hotel Name</th>\n",
       "    </tr>\n",
       "  </thead>\n",
       "  <tbody>\n",
       "    <tr>\n",
       "      <th>1</th>\n",
       "      <td>Guider</td>\n",
       "      <td>CM</td>\n",
       "      <td>79.61</td>\n",
       "      <td>9.93</td>\n",
       "      <td>13.95</td>\n",
       "      <td></td>\n",
       "    </tr>\n",
       "    <tr>\n",
       "      <th>3</th>\n",
       "      <td>Manoel Urbano</td>\n",
       "      <td>BR</td>\n",
       "      <td>79.30</td>\n",
       "      <td>-8.84</td>\n",
       "      <td>-69.26</td>\n",
       "      <td></td>\n",
       "    </tr>\n",
       "    <tr>\n",
       "      <th>4</th>\n",
       "      <td>Atuona</td>\n",
       "      <td>PF</td>\n",
       "      <td>77.47</td>\n",
       "      <td>-9.80</td>\n",
       "      <td>-139.03</td>\n",
       "      <td></td>\n",
       "    </tr>\n",
       "    <tr>\n",
       "      <th>6</th>\n",
       "      <td>Vila Do Maio</td>\n",
       "      <td>CV</td>\n",
       "      <td>77.00</td>\n",
       "      <td>15.13</td>\n",
       "      <td>-23.22</td>\n",
       "      <td></td>\n",
       "    </tr>\n",
       "    <tr>\n",
       "      <th>7</th>\n",
       "      <td>Muisne</td>\n",
       "      <td>EC</td>\n",
       "      <td>75.52</td>\n",
       "      <td>0.60</td>\n",
       "      <td>-80.03</td>\n",
       "      <td></td>\n",
       "    </tr>\n",
       "    <tr>\n",
       "      <th>13</th>\n",
       "      <td>Gorontalo</td>\n",
       "      <td>ID</td>\n",
       "      <td>79.39</td>\n",
       "      <td>0.54</td>\n",
       "      <td>123.06</td>\n",
       "      <td></td>\n",
       "    </tr>\n",
       "    <tr>\n",
       "      <th>17</th>\n",
       "      <td>Butaritari</td>\n",
       "      <td>KI</td>\n",
       "      <td>81.97</td>\n",
       "      <td>3.07</td>\n",
       "      <td>172.79</td>\n",
       "      <td></td>\n",
       "    </tr>\n",
       "    <tr>\n",
       "      <th>19</th>\n",
       "      <td>Touros</td>\n",
       "      <td>BR</td>\n",
       "      <td>78.80</td>\n",
       "      <td>-5.20</td>\n",
       "      <td>-35.46</td>\n",
       "      <td></td>\n",
       "    </tr>\n",
       "    <tr>\n",
       "      <th>23</th>\n",
       "      <td>Bathsheba</td>\n",
       "      <td>BB</td>\n",
       "      <td>82.40</td>\n",
       "      <td>13.22</td>\n",
       "      <td>-59.52</td>\n",
       "      <td></td>\n",
       "    </tr>\n",
       "    <tr>\n",
       "      <th>24</th>\n",
       "      <td>Diffa</td>\n",
       "      <td>NE</td>\n",
       "      <td>77.88</td>\n",
       "      <td>13.32</td>\n",
       "      <td>12.61</td>\n",
       "      <td></td>\n",
       "    </tr>\n",
       "  </tbody>\n",
       "</table>\n",
       "</div>"
      ],
      "text/plain": [
       "             City Country  Max Temp    Lat     Lng Hotel Name\n",
       "1          Guider      CM     79.61   9.93   13.95           \n",
       "3   Manoel Urbano      BR     79.30  -8.84  -69.26           \n",
       "4          Atuona      PF     77.47  -9.80 -139.03           \n",
       "6    Vila Do Maio      CV     77.00  15.13  -23.22           \n",
       "7          Muisne      EC     75.52   0.60  -80.03           \n",
       "13      Gorontalo      ID     79.39   0.54  123.06           \n",
       "17     Butaritari      KI     81.97   3.07  172.79           \n",
       "19         Touros      BR     78.80  -5.20  -35.46           \n",
       "23      Bathsheba      BB     82.40  13.22  -59.52           \n",
       "24          Diffa      NE     77.88  13.32   12.61           "
      ]
     },
     "execution_count": 12,
     "metadata": {},
     "output_type": "execute_result"
    }
   ],
   "source": [
    "# Create DataFrame called hotel_df to store hotel names along with city, country, max temp, and coordinates.\n",
    "hotel_df = preferred_cities_df[[\"City\", \"Country\", \"Max Temp\", \"Lat\", \"Lng\"]].copy()\n",
    "hotel_df[\"Hotel Name\"] = \"\"\n",
    "hotel_df.head(10)"
   ]
  },
  {
   "cell_type": "code",
   "execution_count": 13,
   "metadata": {},
   "outputs": [],
   "source": [
    "# Set parameters to search for a hotel.\n",
    "params = {\n",
    "    \"radius\": 5000,\n",
    "    \"type\": \"lodging\",\n",
    "    \"key\": g_key\n",
    "}"
   ]
  },
  {
   "cell_type": "code",
   "execution_count": 15,
   "metadata": {},
   "outputs": [],
   "source": [
    "# Iterate through the DataFrame.\n",
    "for index, row in hotel_df.iterrows():\n",
    "    # Get the latitude and longitude.\n",
    "    lat = row[\"Lat\"]\n",
    "    lng = row[\"Lng\"]\n",
    "\n",
    "    # Add the latitude and longitude to location key for the params dictionary.\n",
    "    params[\"location\"] = f\"{lat},{lng}\"\n",
    "\n",
    "    # Use the search term: \"lodging\" and our latitude and longitude.\n",
    "    base_url = \"https://maps.googleapis.com/maps/api/place/nearbysearch/json\"\n",
    "    # Make request and get the JSON data from the search.\n",
    "    hotels = requests.get(base_url, params=params).json()\n",
    "    # Grab the first hotel from the results and store the name.\n",
    "    # Grab the first hotel from the results and store the name.\n",
    "try:\n",
    "    hotel_df.loc[index, \"Hotel Name\"] = hotels[\"results\"][0][\"name\"]\n",
    "except (IndexError):\n",
    "    print(\"Hotel not found... skipping.\")"
   ]
  },
  {
   "cell_type": "code",
   "execution_count": 16,
   "metadata": {},
   "outputs": [
    {
     "data": {
      "text/html": [
       "<div>\n",
       "<style scoped>\n",
       "    .dataframe tbody tr th:only-of-type {\n",
       "        vertical-align: middle;\n",
       "    }\n",
       "\n",
       "    .dataframe tbody tr th {\n",
       "        vertical-align: top;\n",
       "    }\n",
       "\n",
       "    .dataframe thead th {\n",
       "        text-align: right;\n",
       "    }\n",
       "</style>\n",
       "<table border=\"1\" class=\"dataframe\">\n",
       "  <thead>\n",
       "    <tr style=\"text-align: right;\">\n",
       "      <th></th>\n",
       "      <th>City</th>\n",
       "      <th>Country</th>\n",
       "      <th>Max Temp</th>\n",
       "      <th>Lat</th>\n",
       "      <th>Lng</th>\n",
       "      <th>Hotel Name</th>\n",
       "    </tr>\n",
       "  </thead>\n",
       "  <tbody>\n",
       "    <tr>\n",
       "      <th>1</th>\n",
       "      <td>Guider</td>\n",
       "      <td>CM</td>\n",
       "      <td>79.61</td>\n",
       "      <td>9.93</td>\n",
       "      <td>13.95</td>\n",
       "      <td>Hotel Falaise</td>\n",
       "    </tr>\n",
       "    <tr>\n",
       "      <th>3</th>\n",
       "      <td>Manoel Urbano</td>\n",
       "      <td>BR</td>\n",
       "      <td>79.30</td>\n",
       "      <td>-8.84</td>\n",
       "      <td>-69.26</td>\n",
       "      <td>Baixada Beira Rio</td>\n",
       "    </tr>\n",
       "    <tr>\n",
       "      <th>4</th>\n",
       "      <td>Atuona</td>\n",
       "      <td>PF</td>\n",
       "      <td>77.47</td>\n",
       "      <td>-9.80</td>\n",
       "      <td>-139.03</td>\n",
       "      <td>Villa Enata</td>\n",
       "    </tr>\n",
       "    <tr>\n",
       "      <th>6</th>\n",
       "      <td>Vila Do Maio</td>\n",
       "      <td>CV</td>\n",
       "      <td>77.00</td>\n",
       "      <td>15.13</td>\n",
       "      <td>-23.22</td>\n",
       "      <td>Residence 'I Delfini'</td>\n",
       "    </tr>\n",
       "    <tr>\n",
       "      <th>7</th>\n",
       "      <td>Muisne</td>\n",
       "      <td>EC</td>\n",
       "      <td>75.52</td>\n",
       "      <td>0.60</td>\n",
       "      <td>-80.03</td>\n",
       "      <td>Quinta Samay</td>\n",
       "    </tr>\n",
       "    <tr>\n",
       "      <th>...</th>\n",
       "      <td>...</td>\n",
       "      <td>...</td>\n",
       "      <td>...</td>\n",
       "      <td>...</td>\n",
       "      <td>...</td>\n",
       "      <td>...</td>\n",
       "    </tr>\n",
       "    <tr>\n",
       "      <th>550</th>\n",
       "      <td>Finschhafen</td>\n",
       "      <td>PG</td>\n",
       "      <td>85.89</td>\n",
       "      <td>-6.60</td>\n",
       "      <td>147.87</td>\n",
       "      <td></td>\n",
       "    </tr>\n",
       "    <tr>\n",
       "      <th>554</th>\n",
       "      <td>Porto Novo</td>\n",
       "      <td>BJ</td>\n",
       "      <td>79.23</td>\n",
       "      <td>6.50</td>\n",
       "      <td>2.60</td>\n",
       "      <td></td>\n",
       "    </tr>\n",
       "    <tr>\n",
       "      <th>555</th>\n",
       "      <td>Rawson</td>\n",
       "      <td>AR</td>\n",
       "      <td>78.98</td>\n",
       "      <td>-43.30</td>\n",
       "      <td>-65.10</td>\n",
       "      <td></td>\n",
       "    </tr>\n",
       "    <tr>\n",
       "      <th>557</th>\n",
       "      <td>Maine-Soroa</td>\n",
       "      <td>NE</td>\n",
       "      <td>77.59</td>\n",
       "      <td>13.21</td>\n",
       "      <td>12.02</td>\n",
       "      <td></td>\n",
       "    </tr>\n",
       "    <tr>\n",
       "      <th>558</th>\n",
       "      <td>Sassandra</td>\n",
       "      <td>CI</td>\n",
       "      <td>76.73</td>\n",
       "      <td>4.95</td>\n",
       "      <td>-6.08</td>\n",
       "      <td>la terrasse</td>\n",
       "    </tr>\n",
       "  </tbody>\n",
       "</table>\n",
       "<p>175 rows × 6 columns</p>\n",
       "</div>"
      ],
      "text/plain": [
       "              City Country  Max Temp    Lat     Lng             Hotel Name\n",
       "1           Guider      CM     79.61   9.93   13.95          Hotel Falaise\n",
       "3    Manoel Urbano      BR     79.30  -8.84  -69.26      Baixada Beira Rio\n",
       "4           Atuona      PF     77.47  -9.80 -139.03            Villa Enata\n",
       "6     Vila Do Maio      CV     77.00  15.13  -23.22  Residence 'I Delfini'\n",
       "7           Muisne      EC     75.52   0.60  -80.03           Quinta Samay\n",
       "..             ...     ...       ...    ...     ...                    ...\n",
       "550    Finschhafen      PG     85.89  -6.60  147.87                       \n",
       "554     Porto Novo      BJ     79.23   6.50    2.60                       \n",
       "555         Rawson      AR     78.98 -43.30  -65.10                       \n",
       "557    Maine-Soroa      NE     77.59  13.21   12.02                       \n",
       "558      Sassandra      CI     76.73   4.95   -6.08            la terrasse\n",
       "\n",
       "[175 rows x 6 columns]"
      ]
     },
     "execution_count": 16,
     "metadata": {},
     "output_type": "execute_result"
    }
   ],
   "source": [
    "hotel_df"
   ]
  },
  {
   "cell_type": "code",
   "execution_count": 18,
   "metadata": {},
   "outputs": [
    {
     "data": {
      "application/vnd.jupyter.widget-view+json": {
       "model_id": "e52b8374bb874505b42dc2ef3a9acbb7",
       "version_major": 2,
       "version_minor": 0
      },
      "text/plain": [
       "Figure(layout=FigureLayout(height='420px'))"
      ]
     },
     "metadata": {},
     "output_type": "display_data"
    }
   ],
   "source": [
    "# Add a heatmap of temperature for the vacation spots and marker for each city.\n",
    "locations = hotel_df[[\"Lat\", \"Lng\"]]\n",
    "max_temp = hotel_df[\"Max Temp\"]\n",
    "fig = gmaps.figure(center=(30.0, 31.0), zoom_level=1.5)\n",
    "heat_layer = gmaps.heatmap_layer(locations, weights=max_temp,\n",
    "             dissipating=False, max_intensity=300, point_radius=4)\n",
    "marker_layer = gmaps.marker_layer(locations)\n",
    "fig.add_layer(heat_layer)\n",
    "fig.add_layer(marker_layer)\n",
    "# Call the figure to plot the data.\n",
    "fig"
   ]
  },
  {
   "cell_type": "code",
   "execution_count": 20,
   "metadata": {},
   "outputs": [],
   "source": [
    "info_box_template = \"\"\"\n",
    "<dl>\n",
    "<dt>Hotel Name</dt><dd>{Hotel Name}</dd>\n",
    "<dt>City</dt><dd>{City}</dd>\n",
    "<dt>Country</dt><dd>{Country}</dd>\n",
    "<dt>Max Temp</dt><dd>{Max Temp} °F</dd>\n",
    "</dl>\n",
    "\"\"\""
   ]
  },
  {
   "cell_type": "code",
   "execution_count": 22,
   "metadata": {},
   "outputs": [],
   "source": [
    "# Store the DataFrame Row.\n",
    "hotel_info = [info_box_template.format(**row) for index, row in hotel_df.iterrows()]"
   ]
  },
  {
   "cell_type": "code",
   "execution_count": 23,
   "metadata": {},
   "outputs": [
    {
     "data": {
      "application/vnd.jupyter.widget-view+json": {
       "model_id": "300166fadc1c48439b7ae14301aa1773",
       "version_major": 2,
       "version_minor": 0
      },
      "text/plain": [
       "Figure(layout=FigureLayout(height='420px'))"
      ]
     },
     "metadata": {},
     "output_type": "display_data"
    }
   ],
   "source": [
    "# Add a heatmap of temperature for the vacation spots and a pop-up marker for each city.\n",
    "locations = hotel_df[[\"Lat\", \"Lng\"]]\n",
    "max_temp = hotel_df[\"Max Temp\"]\n",
    "fig = gmaps.figure(center=(30.0, 31.0), zoom_level=1.5)\n",
    "heat_layer = gmaps.heatmap_layer(locations, weights=max_temp,dissipating=False,\n",
    "             max_intensity=300, point_radius=4)\n",
    "marker_layer = gmaps.marker_layer(locations, info_box_content=hotel_info)\n",
    "fig.add_layer(heat_layer)\n",
    "fig.add_layer(marker_layer)\n",
    "\n",
    "# Call the figure to plot the data.\n",
    "fig"
   ]
  },
  {
   "cell_type": "code",
   "execution_count": null,
   "metadata": {},
   "outputs": [],
   "source": []
  }
 ],
 "metadata": {
  "kernelspec": {
   "display_name": "PythonData",
   "language": "python",
   "name": "pythondata"
  },
  "language_info": {
   "codemirror_mode": {
    "name": "ipython",
    "version": 3
   },
   "file_extension": ".py",
   "mimetype": "text/x-python",
   "name": "python",
   "nbconvert_exporter": "python",
   "pygments_lexer": "ipython3",
   "version": "3.8.3"
  }
 },
 "nbformat": 4,
 "nbformat_minor": 4
}
